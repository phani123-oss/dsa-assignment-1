{
 "cells": [
  {
   "cell_type": "code",
   "execution_count": 6,
   "id": "3dcf6864-42eb-4d75-a044-52e6a28341cc",
   "metadata": {},
   "outputs": [
    {
     "data": {
      "text/plain": [
       "True"
      ]
     },
     "execution_count": 6,
     "metadata": {},
     "output_type": "execute_result"
    }
   ],
   "source": [
    "'''1. Given an array, check if it contains any duplicates or not.\n",
    "arr = [1, 2, 4, 2, 5, 9]\n",
    "Output = True'''\n",
    "\n",
    "#timecomplexity : big O(n)\n",
    "#space complexity: O(1)\n",
    "def contains_duplicates(arr):\n",
    "    lst=[]\n",
    "    for i in arr:\n",
    "        if i in lst:\n",
    "            return True\n",
    "        lst.append(i)\n",
    "    return False\n",
    "#driver code\n",
    "arr = [1,2,4,2,5,9]\n",
    "contains_duplicates(arr)"
   ]
  },
  {
   "cell_type": "code",
   "execution_count": 12,
   "id": "fa2bead2-3af0-42fd-97fa-8fc25d14fadd",
   "metadata": {},
   "outputs": [
    {
     "name": "stdout",
     "output_type": "stream",
     "text": [
      "[5, 6, 7, 1, 2, 3, 4]\n"
     ]
    }
   ],
   "source": [
    "'''2. Given an array and an integer k, rotate the array to the right by k steps.\n",
    "arr = [1, 2, 3, 4, 5, 6, 7] k = 3\n",
    "Output = [5, 6, 7, 1, 2, 3, 4]'''\n",
    "\n",
    "#timecomplexity : big O(n)\n",
    "#space complexity: O(1)\n",
    "def rotate_arr(arr,k):\n",
    "    #checing the value of k with in the range of valid indices of array\n",
    "    k = k % len(arr)\n",
    "    \n",
    "    rotated_arr = arr[len(arr)-k:]+arr[:len(arr)-k]\n",
    "    return rotated_arr\n",
    "\n",
    "arr = [1,2,3,4,5,6,7]\n",
    "k=3\n",
    "rotated_arr = rotate_arr(arr,k)\n",
    "print(rotated_arr)"
   ]
  },
  {
   "cell_type": "code",
   "execution_count": 16,
   "id": "32c1e078-2fe5-433a-b9b6-005dd02f3759",
   "metadata": {},
   "outputs": [
    {
     "data": {
      "text/plain": [
       "[1, 2, 3, 4]"
      ]
     },
     "execution_count": 16,
     "metadata": {},
     "output_type": "execute_result"
    }
   ],
   "source": [
    "arr = [1,2,3,4,5,6,7]\n",
    "arr[:7-3]"
   ]
  },
  {
   "cell_type": "code",
   "execution_count": 17,
   "id": "5457b648-c4eb-4e1b-ab36-c50d074817f4",
   "metadata": {},
   "outputs": [
    {
     "data": {
      "text/plain": [
       "[5, 6, 7]"
      ]
     },
     "execution_count": 17,
     "metadata": {},
     "output_type": "execute_result"
    }
   ],
   "source": [
    "arr[7-3:]"
   ]
  },
  {
   "cell_type": "code",
   "execution_count": 19,
   "id": "4daf1d73-52b1-4160-87c7-24e6424b7c3c",
   "metadata": {},
   "outputs": [
    {
     "data": {
      "text/plain": [
       "3"
      ]
     },
     "execution_count": 19,
     "metadata": {},
     "output_type": "execute_result"
    }
   ],
   "source": [
    "3%7"
   ]
  },
  {
   "cell_type": "code",
   "execution_count": 10,
   "id": "2ed5e73c-22c9-4288-8fbf-cbe18005f70a",
   "metadata": {},
   "outputs": [
    {
     "data": {
      "text/plain": [
       "[12, 9, 7, 5, 4, 2]"
      ]
     },
     "execution_count": 10,
     "metadata": {},
     "output_type": "execute_result"
    }
   ],
   "source": [
    "'''3. Reverse the given array in-place, means without using any extra data structure.\n",
    "arr = [2, 4, 5, 7, 9, 12]\n",
    "Output = [12, 9, 7, 5, 4, 2]'''\n",
    "\n",
    "arr = [2,4,5,7,9,12]\n",
    "#here we use slicing method to revesre as like a list\n",
    "arr[::-1]"
   ]
  },
  {
   "cell_type": "code",
   "execution_count": 17,
   "id": "f9df82ac-cd5a-48c6-a6a1-b9e2061e47b0",
   "metadata": {},
   "outputs": [
    {
     "name": "stdout",
     "output_type": "stream",
     "text": [
      "20\n"
     ]
    }
   ],
   "source": [
    "'''4. Given an array of integers, find the maximum element in an array\n",
    "arr = [10, 5, 20, 8, 15]\n",
    "Output = 20'''\n",
    "\n",
    "#time complexity:O(n)\n",
    "#space complexity:O(1)\n",
    "def maximum_element(arr):\n",
    "#initialising maximum number to 0 to compare with the numbers that we have in an array\n",
    "    max_num = arr[0]\n",
    "    for num in arr:\n",
    "        if num>max_num:\n",
    "            max_num = num\n",
    "    return max_num\n",
    "    \n",
    "#driver code\n",
    "arr = [10,5,20,8,15]\n",
    "print(maximum_element(arr))"
   ]
  },
  {
   "cell_type": "code",
   "execution_count": 2,
   "id": "67922669-d772-47f3-b735-3c3d93f7f784",
   "metadata": {},
   "outputs": [
    {
     "name": "stdout",
     "output_type": "stream",
     "text": [
      "[1, 2, 3, 4, 5]\n"
     ]
    }
   ],
   "source": [
    "'''5. Given a sorted array, remove the duplicate element without using any extra data structure.\n",
    "arr = [1, 1, 2, 2, 2, 3, 3, 4, 4, 4, 5, 5]\n",
    "Output = [1, 2, 3, 4, 5]'''\n",
    "\n",
    "#timecomplexity is : O(n)\n",
    "#spacecomplexity:O(1)\n",
    "def remove_duplicates(arr):\n",
    "    #initialising two pointers i,j\n",
    "    i=0\n",
    "    j=1\n",
    "    while j<len(arr):\n",
    "        if arr[i] == arr[j]:\n",
    "            arr.pop(j)\n",
    "        else:\n",
    "            i+=1\n",
    "            j+=1\n",
    "    return arr\n",
    "    \n",
    "arr = [1, 1, 2, 2, 2 , 3, 3, 4, 4, 4, 5, 5]\n",
    "print(remove_duplicates(arr))"
   ]
  },
  {
   "cell_type": "code",
   "execution_count": 5,
   "id": "ca3de6d5-e600-46f8-8453-7d4ff2ab042f",
   "metadata": {},
   "outputs": [
    {
     "data": {
      "text/plain": [
       "1"
      ]
     },
     "execution_count": 5,
     "metadata": {},
     "output_type": "execute_result"
    }
   ],
   "source": [
    "arr = [1, 1, 2, 2, 2, 3, 3, 4, 4, 4, 5, 5]\n",
    "arr[i]"
   ]
  },
  {
   "cell_type": "code",
   "execution_count": 9,
   "id": "14f7cc90-214b-4f96-8147-7e058c1ec1ac",
   "metadata": {},
   "outputs": [
    {
     "data": {
      "text/plain": [
       "3"
      ]
     },
     "execution_count": 9,
     "metadata": {},
     "output_type": "execute_result"
    }
   ],
   "source": [
    "arr[j+5]"
   ]
  },
  {
   "cell_type": "code",
   "execution_count": null,
   "id": "6047d8ed-f8f0-40de-90d4-3cf03d28202a",
   "metadata": {},
   "outputs": [],
   "source": []
  }
 ],
 "metadata": {
  "kernelspec": {
   "display_name": "Python 3 (ipykernel)",
   "language": "python",
   "name": "python3"
  },
  "language_info": {
   "codemirror_mode": {
    "name": "ipython",
    "version": 3
   },
   "file_extension": ".py",
   "mimetype": "text/x-python",
   "name": "python",
   "nbconvert_exporter": "python",
   "pygments_lexer": "ipython3",
   "version": "3.10.8"
  }
 },
 "nbformat": 4,
 "nbformat_minor": 5
}
